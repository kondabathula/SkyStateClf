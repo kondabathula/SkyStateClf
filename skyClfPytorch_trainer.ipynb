{
 "cells": [
  {
   "cell_type": "code",
   "execution_count": null,
   "metadata": {},
   "outputs": [],
   "source": [
    "import torch\n",
    "import torchvision\n",
    "from torchvision import transforms, datasets\n",
    "from torch.utils.data import DataLoader\n",
    "from torchvision.models import resnet34\n",
    "import matplotlib.pyplot as plt\n",
    "from torch import nn\n",
    "import time, os, copy, numpy as np\n",
    "from tqdm import tqdm, time, copy"
   ]
  },
  {
   "cell_type": "code",
   "execution_count": null,
   "metadata": {},
   "outputs": [],
   "source": [
    "root = './sample_data/'\n",
    "batch_size = 64\n",
    "lr = 1e-2"
   ]
  },
  {
   "cell_type": "code",
   "execution_count": null,
   "metadata": {},
   "outputs": [],
   "source": [
    "mean=[0.469,0.526,0.575]\n",
    "std=[0.155,0.147,0.128]\n",
    "data_transformation = transforms.Compose([transforms.Resize(224),\\\n",
    "                                          transforms.RandomHorizontalFlip(),\\\n",
    "                                          transforms.ToTensor(),\\\n",
    "                                          transforms.Normalize(mean=mean, std=std)])"
   ]
  },
  {
   "cell_type": "code",
   "execution_count": null,
   "metadata": {},
   "outputs": [],
   "source": [
    "cloudClfDataset = {mode: datasets.ImageFolder(root=root+mode,\\\n",
    "                                              transform=data_transformation)\n",
    "                   for mode in ['train', 'valid']}"
   ]
  },
  {
   "cell_type": "code",
   "execution_count": null,
   "metadata": {},
   "outputs": [],
   "source": [
    "dataset_sizes = {mode: len(cloudClfDataset[mode]) for mode in ['train', 'valid']}"
   ]
  },
  {
   "cell_type": "code",
   "execution_count": null,
   "metadata": {},
   "outputs": [],
   "source": [
    "cloudClfDataset_loader = {mode: DataLoader(dataset=cloudClfDataset[mode],\\\n",
    "                                            batch_size=batch_size,\n",
    "                                            shuffle=True, num_workers=0)\n",
    "                          for mode in ['train', 'valid']}"
   ]
  },
  {
   "cell_type": "code",
   "execution_count": null,
   "metadata": {},
   "outputs": [],
   "source": [
    "device = torch.device(\"cuda:0\" if torch.cuda.is_available() else \"cpu\")"
   ]
  },
  {
   "cell_type": "code",
   "execution_count": null,
   "metadata": {},
   "outputs": [],
   "source": [
    "cloudModel = resnet34(True)\n",
    "for param in cloudModel.parameters():\n",
    "    param.required_grad = False\n",
    "cloudModel.fc = nn.Linear(512,3)"
   ]
  },
  {
   "cell_type": "code",
   "execution_count": null,
   "metadata": {},
   "outputs": [],
   "source": [
    "cloudModel = cloudModel.to(device)"
   ]
  },
  {
   "cell_type": "code",
   "execution_count": null,
   "metadata": {},
   "outputs": [],
   "source": [
    "criterion = nn.CrossEntropyLoss().to(device)"
   ]
  },
  {
   "cell_type": "code",
   "execution_count": null,
   "metadata": {},
   "outputs": [],
   "source": [
    "optimiser = torch.optim.SGD(params=model_fit.fc.parameters(), lr=lr,momentum=0)"
   ]
  },
  {
   "cell_type": "code",
   "execution_count": null,
   "metadata": {},
   "outputs": [],
   "source": [
    "lr_scheduler = torch.optim.lr_scheduler.StepLR(optimiser, step_size=5, gamma=0.001)"
   ]
  },
  {
   "cell_type": "code",
   "execution_count": null,
   "metadata": {},
   "outputs": [],
   "source": [
    "def train_model(model, dataloader, criterion, optimiser, scheduler, device, dataset_size, num_epochs=10):\n",
    "    try:\n",
    "        since = time.time()\n",
    "\n",
    "        best_model_wts = copy.deepcopy(model.state_dict())\n",
    "        best_acc = 0.0\n",
    "\n",
    "        for epoch in range(num_epochs):\n",
    "            print(f'Epoch {epoch+1}/{num_epochs}')\n",
    "            \n",
    "            for phase in ['train', 'valid']:\n",
    "                if phase == 'train':\n",
    "                    scheduler.step()\n",
    "                    model.train()\n",
    "                else:\n",
    "                    model.eval()\n",
    "\n",
    "                running_loss = 0.0\n",
    "                running_corrects = 0\n",
    "\n",
    "                for images, labels in dataloader[phase]:\n",
    "                    images = images.to(device)\n",
    "                    labels = labels.to(device)\n",
    "\n",
    "                    optimiser.zero_grad()\n",
    "\n",
    "                    with torch.set_grad_enabled(phase=='train'):\n",
    "                        outputs = model(images)\n",
    "                        _, preds = torch.max(outputs, 1)\n",
    "                        loss = criterion(outputs, labels)\n",
    "\n",
    "                        if phase == 'train':\n",
    "                            loss.backward()\n",
    "                            optimiser.step()\n",
    "                    temp1 = loss.item() * images.size(0)\n",
    "                    temp2 = torch.sum(preds==labels.data)\n",
    "                    running_loss += temp1\n",
    "                    running_corrects += temp2\n",
    "                    print('Running loss:{:.2f} Acc:{:}   '.format(temp1/images.size(0), temp2), end='\\r')\n",
    "                epoch_loss = running_loss/dataset_size[phase]\n",
    "                epoch_acc = running_corrects.double()/dataset_size[phase]\n",
    "                print('{} Loss: {:.4f} Acc: {:.4f}'.format(phase, epoch_loss,\n",
    "                                                          epoch_acc*100))\n",
    "\n",
    "                if phase == 'valid' and epoch_acc > best_acc:\n",
    "                    best_acc = epoch_acc\n",
    "                    resume_model_wts = copy.deepcopy(model.state_dict())\n",
    "                    best_model_wts = copy.deepcopy(model.state_dict())\n",
    "            print('--' * 20)\n",
    "            print()\n",
    "\n",
    "        time_elapsed = time.time() - since\n",
    "        print('Training completed in {:.0f}m {:.0f}s'.format(\n",
    "                time_elapsed//60, time_elapsed%60))\n",
    "        print('Best valid Acc: {:4f}'.format(best_acc))\n",
    "\n",
    "        model.load_state_dict(best_model_wts)\n",
    "    except KeyboardInterrupt:\n",
    "        model.load_state_dict(best_model_wts)\n",
    "        time_elapsed = time.time() - since\n",
    "        print('Training completed in {:.0f}m {:.0f}s'.format(\n",
    "                time_elapsed//60, time_elapsed%60))\n",
    "        print('Best valid Acc: {:4f}'.format(best_acc))\n",
    "        return model\n",
    "    return model"
   ]
  },
  {
   "cell_type": "code",
   "execution_count": null,
   "metadata": {
    "scrolled": false
   },
   "outputs": [],
   "source": [
    "model_fit = train_model(model=model_fit,\\\n",
    "                        dataloader=cloudClfDataset_loader,\\\n",
    "                        criterion=criterion,\\\n",
    "                        optimiser=optimiser,\\\n",
    "                        scheduler=lr_scheduler,\\\n",
    "                        device=device,\\\n",
    "                        dataset_size=dataset_sizes,\\\n",
    "                        num_epochs=20)"
   ]
  },
  {
   "cell_type": "code",
   "execution_count": null,
   "metadata": {},
   "outputs": [],
   "source": [
    "torch.save(model_fit.state_dict(), '3sky_states_customresnet.pth')"
   ]
  }
 ],
 "metadata": {
  "kernelspec": {
   "display_name": "Python 3",
   "language": "python",
   "name": "python3"
  },
  "language_info": {
   "codemirror_mode": {
    "name": "ipython",
    "version": 3
   },
   "file_extension": ".py",
   "mimetype": "text/x-python",
   "name": "python",
   "nbconvert_exporter": "python",
   "pygments_lexer": "ipython3",
   "version": "3.6.5"
  }
 },
 "nbformat": 4,
 "nbformat_minor": 2
}
